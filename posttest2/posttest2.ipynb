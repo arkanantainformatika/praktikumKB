{
 "cells": [
  {
   "cell_type": "markdown",
   "id": "8464edcf-49f7-45aa-855a-eb17daded09e",
   "metadata": {},
   "source": [
    "POSTTEST2 KECERDASAN BUATAN\n",
    "\n",
    "ABDULLAH ARKANANTA RAENDRYA HASAN (2209106085)"
   ]
  },
  {
   "cell_type": "code",
   "execution_count": 1,
   "id": "620ecc44-2326-4a6e-80f4-273db53ff403",
   "metadata": {},
   "outputs": [],
   "source": [
    "import pandas as pd\n",
    "import matplotlib.pyplot as plt\n",
    "from matplotlib import cm\n",
    "import seaborn as sns\n",
    "from prettytable import PrettyTable"
   ]
  },
  {
   "cell_type": "markdown",
   "id": "43d8ec08-ee60-4d2b-9e53-930980c3e4f3",
   "metadata": {},
   "source": [
    "1. Tampilkan rata-rata, standar deviasi, nilai minimum, nilai maksimum, Q1, Q2, dan Q3 dari attribute bertipe angka."
   ]
  },
  {
   "cell_type": "markdown",
   "id": "58a99dba-9d7f-4679-b81d-e3c865d5a6ff",
   "metadata": {},
   "source": [
    "# task 1\n",
    "driver = pd.read_csv('driver_standings.csv')\n",
    "drivers = pd.read_csv('drivers.csv')\n",
    "drivers"
   ]
  },
  {
   "cell_type": "code",
   "execution_count": 2,
   "id": "83285b7b-23f7-401a-91dd-bd4acdbebb94",
   "metadata": {},
   "outputs": [
    {
     "ename": "NameError",
     "evalue": "name 'driver' is not defined",
     "output_type": "error",
     "traceback": [
      "\u001b[1;31m---------------------------------------------------------------------------\u001b[0m",
      "\u001b[1;31mNameError\u001b[0m                                 Traceback (most recent call last)",
      "Cell \u001b[1;32mIn[2], line 1\u001b[0m\n\u001b[1;32m----> 1\u001b[0m \u001b[43mdriver\u001b[49m\u001b[38;5;241m.\u001b[39mdescribe()\n",
      "\u001b[1;31mNameError\u001b[0m: name 'driver' is not defined"
     ]
    }
   ],
   "source": [
    "driver.describe()"
   ]
  },
  {
   "cell_type": "markdown",
   "id": "99bfef7b-c981-40b4-bb95-abfdd2f66cee",
   "metadata": {},
   "source": [
    "2. Tampilkan 10 record pertama dari dataset dengan attribute bertipe angka."
   ]
  },
  {
   "cell_type": "code",
   "execution_count": null,
   "id": "57d3da44-a692-425b-83be-2113065291da",
   "metadata": {},
   "outputs": [],
   "source": [
    "# task 2\n",
    "taskTwo = driver.select_dtypes(include=['number'])\n",
    "taskTwo.head(10)"
   ]
  },
  {
   "cell_type": "markdown",
   "id": "eb83752d-03b1-44db-a9a4-28029f851751",
   "metadata": {},
   "source": [
    "3. Tampilkan informasi jumlah record, jumlah attribute, nama attribute, jumlah attribute dengan tipe angka."
   ]
  },
  {
   "cell_type": "code",
   "execution_count": null,
   "id": "170d70fc-bd00-49d7-ac44-66ec9c3eb5f9",
   "metadata": {},
   "outputs": [],
   "source": [
    "# task 3\n",
    "# Menghitung jumlah baris dan kolom\n",
    "jumlahBaris = driver.shape[0]\n",
    "jumlahKolom = driver.shape[1]  # Indeks 1 digunakan untuk jumlah kolom, bukan 10\n",
    "\n",
    "# Mendapatkan nama kolom\n",
    "namaKolom = driver.columns.tolist()  # Menggunakan 'columns' untuk mengambil nama kolom\n",
    "\n",
    "# Memilih kolom yang bertipe angka\n",
    "kolomTipeAngka = driver.select_dtypes(include='number')  # Perbaikan penulisan 'select_dtypes' dan 'include'\n",
    "\n",
    "# Menghitung jumlah kolom bertipe angka\n",
    "jumlahKolomTipeAngka = kolomTipeAngka.shape[1]  # Jumlah kolom berada di indeks 1\n",
    "\n",
    "# Menampilkan hasil\n",
    "print('Jumlah Baris : ', jumlahBaris)\n",
    "print('Jumlah Kolom : ', jumlahKolom)\n",
    "print('Nama Kolom : ', namaKolom)\n",
    "print('Jumlah Kolom Bertipe Angka : ', jumlahKolomTipeAngka)\n"
   ]
  },
  {
   "cell_type": "markdown",
   "id": "f21a7cf8-2810-4202-a943-c7a070cbe0bc",
   "metadata": {},
   "source": [
    "4. Tampilkan jumlah label dari semua attribute yang bernilai object"
   ]
  },
  {
   "cell_type": "code",
   "execution_count": null,
   "id": "8bbc5c86-c5b0-4b59-bf10-40a14e7dc23f",
   "metadata": {},
   "outputs": [],
   "source": [
    "# task 4\n",
    "# Memilih kolom bertipe object (kategorikal)\n",
    "kolomTipeObject = drivers.select_dtypes(include='object')\n",
    "\n",
    "# Menghitung jumlah label unik di setiap kolom bertipe object\n",
    "for kolom in kolomTipeObject.columns:\n",
    "    print(f\"Jumlah label unik di kolom '{kolom}': {drivers[kolom].nunique()}\")\n",
    "    print(f\"Label di kolom '{kolom}': {drivers[kolom].unique()}\\n\")\n"
   ]
  },
  {
   "cell_type": "code",
   "execution_count": null,
   "id": "b7f78ddc-f18e-40ad-9193-01fd2c0cd6e0",
   "metadata": {},
   "outputs": [],
   "source": [
    "# task 4\n",
    "driverObjek = driver.select_dtypes(include=['object'])\n",
    "\n",
    "# Menghitung jumlah label unik untuk setiap kolom\n",
    "jumlahLabel = driverObjek.nunique()\n",
    "\n",
    "# Menampilkan hasil dengan garis pembatas\n",
    "print(\"Jumlah label dari setiap atribut bertipe objek:\", jumlahLabel)\n",
    "# print(driverObjek)"
   ]
  },
  {
   "cell_type": "markdown",
   "id": "a2bd5149-a541-4b32-aebb-f52cb5b2466a",
   "metadata": {},
   "source": [
    "5. Visualisasikan dataset dengan salah satu grafik. Pilih grafik yang paling cocok untuk memvisualisasikan data tersebut."
   ]
  },
  {
   "cell_type": "markdown",
   "id": "a7c8b677-8d0e-4126-9a1d-358fecfc1750",
   "metadata": {},
   "source": [
    "# task 5\n",
    "import matplotlib.pyplot as plt\n",
    "\n",
    "# Menghitung nilai frekuensi untuk setiap nationality\n",
    "nationality_counts = drivers['nationality'].value_counts()\n",
    "\n",
    "# Membuat plot dengan ukuran yang lebih besar\n",
    "fig = plt.figure(figsize=(20, 15))\n",
    "\n",
    "# Membuat histogram dari kolom nationality\n",
    "plt.hist(drivers['nationality'], bins=len(nationality_counts), color='blue', edgecolor='white')\n",
    "\n",
    "# Memberikan judul dan label pada sumbu\n",
    "plt.title('Statistik Negara Kelahiran Drivers F1', fontsize=18)\n",
    "plt.ylabel('Jumlah Drivers', fontsize=14)\n",
    "plt.xlabel('Nationality', fontsize=14)\n",
    "\n",
    "# Memutar label pada sumbu x untuk mencegah tabrakan\n",
    "plt.xticks(rotation=45, ha='right', fontsize=12)\n",
    "\n",
    "# Menampilkan plot\n",
    "plt.tight_layout()  # Agar tata letak tidak terpotong\n",
    "plt.show()\n"
   ]
  },
  {
   "cell_type": "markdown",
   "id": "3f003042-8d56-4768-bda6-5681d98eee2d",
   "metadata": {},
   "source": [
    "6. Tampilkan korelasi dataset menggunakan heatmap."
   ]
  },
  {
   "cell_type": "code",
   "execution_count": null,
   "id": "6f4939f9-4e02-4f8e-ad4d-511108b3a42a",
   "metadata": {},
   "outputs": [],
   "source": [
    "# task 6\n",
    "driver.corr()"
   ]
  },
  {
   "cell_type": "code",
   "execution_count": null,
   "id": "111b0672-b995-4e54-8715-1a3c5a90e0df",
   "metadata": {},
   "outputs": [],
   "source": [
    "import seaborn as sns"
   ]
  },
  {
   "cell_type": "code",
   "execution_count": null,
   "id": "f9377bc9-449b-4e2e-96a5-094b227966ed",
   "metadata": {},
   "outputs": [],
   "source": [
    "sns.heatmap(\n",
    "    driver.corr(),\n",
    "    annot=True,\n",
    "    annot_kws={'size':10}\n",
    ")\n",
    "\n",
    "plt.show()"
   ]
  },
  {
   "cell_type": "markdown",
   "id": "00770ecd-e14b-46dd-b3b6-8ffa89970a1e",
   "metadata": {},
   "source": [
    "#### Kesimpulan:\n",
    "pada dataset driver standing terdapat 34595 jumlah baris dan  6 jumlah kolom bertipe data angka, dengan nama kolom : 'driverStandingsId', 'raceId', 'driverId', 'points', 'position', 'positionText', 'wins'. terdapat label pada dateset drivers yaitu driverRef(berisi nama paa drivers). dan juga berdasarkan pada statistik kewarganegaraan pada grafik di peroleh informasi British merupakan negara yang memiliki atlit F1 driver terbanyak dan chines merupakan negara dengan atlit F1 driver paling sedikit.\n"
   ]
  },
  {
   "cell_type": "code",
   "execution_count": null,
   "id": "20cd7626-fb8a-4f0f-aa13-7b2c4880583f",
   "metadata": {},
   "outputs": [],
   "source": []
  }
 ],
 "metadata": {
  "kernelspec": {
   "display_name": "Python 3 (ipykernel)",
   "language": "python",
   "name": "python3"
  },
  "language_info": {
   "codemirror_mode": {
    "name": "ipython",
    "version": 3
   },
   "file_extension": ".py",
   "mimetype": "text/x-python",
   "name": "python",
   "nbconvert_exporter": "python",
   "pygments_lexer": "ipython3",
   "version": "3.10.7"
  }
 },
 "nbformat": 4,
 "nbformat_minor": 5
}
